{
 "cells": [
  {
   "cell_type": "markdown",
   "metadata": {},
   "source": [
    "# SMOTE "
   ]
  },
  {
   "cell_type": "code",
   "execution_count": 1,
   "metadata": {},
   "outputs": [],
   "source": [
    "# as our data is imbalanced, we need to balance it out, we will use upsamling method called as SMOTE \n",
    "# (Synthetic minority oversampling technique)"
   ]
  },
  {
   "cell_type": "code",
   "execution_count": 2,
   "metadata": {},
   "outputs": [],
   "source": [
    "import pandas as pd # load the dataset"
   ]
  },
  {
   "cell_type": "code",
   "execution_count": 3,
   "metadata": {},
   "outputs": [],
   "source": [
    "data=pd.read_csv('Simple insurance_fraud.csv',index_col=0)"
   ]
  },
  {
   "cell_type": "code",
   "execution_count": 4,
   "metadata": {},
   "outputs": [
    {
     "data": {
      "text/html": [
       "<div>\n",
       "<style scoped>\n",
       "    .dataframe tbody tr th:only-of-type {\n",
       "        vertical-align: middle;\n",
       "    }\n",
       "\n",
       "    .dataframe tbody tr th {\n",
       "        vertical-align: top;\n",
       "    }\n",
       "\n",
       "    .dataframe thead th {\n",
       "        text-align: right;\n",
       "    }\n",
       "</style>\n",
       "<table border=\"1\" class=\"dataframe\">\n",
       "  <thead>\n",
       "    <tr style=\"text-align: right;\">\n",
       "      <th></th>\n",
       "      <th>Region</th>\n",
       "      <th>State</th>\n",
       "      <th>Area</th>\n",
       "      <th>City</th>\n",
       "      <th>Consumer_profile</th>\n",
       "      <th>Product_category</th>\n",
       "      <th>Product_type</th>\n",
       "      <th>AC_1001_Issue</th>\n",
       "      <th>AC_1002_Issue</th>\n",
       "      <th>AC_1003_Issue</th>\n",
       "      <th>TV_2001_Issue</th>\n",
       "      <th>TV_2002_Issue</th>\n",
       "      <th>TV_2003_Issue</th>\n",
       "      <th>Claim_Value</th>\n",
       "      <th>Service_Centre</th>\n",
       "      <th>Product_Age</th>\n",
       "      <th>Purchased_from</th>\n",
       "      <th>Call_details</th>\n",
       "      <th>Purpose</th>\n",
       "      <th>Fraud</th>\n",
       "    </tr>\n",
       "  </thead>\n",
       "  <tbody>\n",
       "    <tr>\n",
       "      <th>0</th>\n",
       "      <td>South</td>\n",
       "      <td>Karnataka</td>\n",
       "      <td>Urban</td>\n",
       "      <td>Bangalore</td>\n",
       "      <td>Business</td>\n",
       "      <td>Entertainment</td>\n",
       "      <td>TV</td>\n",
       "      <td>0</td>\n",
       "      <td>0</td>\n",
       "      <td>0</td>\n",
       "      <td>1</td>\n",
       "      <td>2</td>\n",
       "      <td>0</td>\n",
       "      <td>15000.0</td>\n",
       "      <td>10</td>\n",
       "      <td>60</td>\n",
       "      <td>Manufacturer</td>\n",
       "      <td>0.5</td>\n",
       "      <td>Complaint</td>\n",
       "      <td>1</td>\n",
       "    </tr>\n",
       "    <tr>\n",
       "      <th>1</th>\n",
       "      <td>South</td>\n",
       "      <td>Karnataka</td>\n",
       "      <td>Rural</td>\n",
       "      <td>Bangalore</td>\n",
       "      <td>Business</td>\n",
       "      <td>Household</td>\n",
       "      <td>AC</td>\n",
       "      <td>1</td>\n",
       "      <td>1</td>\n",
       "      <td>0</td>\n",
       "      <td>0</td>\n",
       "      <td>0</td>\n",
       "      <td>0</td>\n",
       "      <td>20000.0</td>\n",
       "      <td>12</td>\n",
       "      <td>10</td>\n",
       "      <td>Dealer</td>\n",
       "      <td>1.0</td>\n",
       "      <td>Complaint</td>\n",
       "      <td>0</td>\n",
       "    </tr>\n",
       "    <tr>\n",
       "      <th>2</th>\n",
       "      <td>North</td>\n",
       "      <td>Haryana</td>\n",
       "      <td>Urban</td>\n",
       "      <td>Chandigarh</td>\n",
       "      <td>Personal</td>\n",
       "      <td>Household</td>\n",
       "      <td>AC</td>\n",
       "      <td>0</td>\n",
       "      <td>1</td>\n",
       "      <td>2</td>\n",
       "      <td>0</td>\n",
       "      <td>0</td>\n",
       "      <td>0</td>\n",
       "      <td>18000.0</td>\n",
       "      <td>14</td>\n",
       "      <td>10</td>\n",
       "      <td>Dealer</td>\n",
       "      <td>1.4</td>\n",
       "      <td>Claim</td>\n",
       "      <td>0</td>\n",
       "    </tr>\n",
       "    <tr>\n",
       "      <th>3</th>\n",
       "      <td>South</td>\n",
       "      <td>Tamil Nadu</td>\n",
       "      <td>Urban</td>\n",
       "      <td>Chennai</td>\n",
       "      <td>Business</td>\n",
       "      <td>Entertainment</td>\n",
       "      <td>TV</td>\n",
       "      <td>0</td>\n",
       "      <td>0</td>\n",
       "      <td>0</td>\n",
       "      <td>1</td>\n",
       "      <td>1</td>\n",
       "      <td>0</td>\n",
       "      <td>12000.0</td>\n",
       "      <td>16</td>\n",
       "      <td>20</td>\n",
       "      <td>Manufacturer</td>\n",
       "      <td>2.0</td>\n",
       "      <td>Complaint</td>\n",
       "      <td>0</td>\n",
       "    </tr>\n",
       "    <tr>\n",
       "      <th>4</th>\n",
       "      <td>North East</td>\n",
       "      <td>Jharkhand</td>\n",
       "      <td>Rural</td>\n",
       "      <td>Ranchi</td>\n",
       "      <td>Personal</td>\n",
       "      <td>Entertainment</td>\n",
       "      <td>TV</td>\n",
       "      <td>0</td>\n",
       "      <td>0</td>\n",
       "      <td>0</td>\n",
       "      <td>0</td>\n",
       "      <td>1</td>\n",
       "      <td>2</td>\n",
       "      <td>25000.0</td>\n",
       "      <td>15</td>\n",
       "      <td>6</td>\n",
       "      <td>Dealer</td>\n",
       "      <td>1.3</td>\n",
       "      <td>Claim</td>\n",
       "      <td>0</td>\n",
       "    </tr>\n",
       "  </tbody>\n",
       "</table>\n",
       "</div>"
      ],
      "text/plain": [
       "       Region       State   Area        City Consumer_profile  \\\n",
       "0       South   Karnataka  Urban   Bangalore         Business   \n",
       "1       South   Karnataka  Rural   Bangalore         Business   \n",
       "2       North     Haryana  Urban  Chandigarh         Personal   \n",
       "3       South  Tamil Nadu  Urban     Chennai         Business   \n",
       "4  North East   Jharkhand  Rural      Ranchi         Personal   \n",
       "\n",
       "  Product_category Product_type  AC_1001_Issue  AC_1002_Issue  AC_1003_Issue  \\\n",
       "0    Entertainment           TV              0              0              0   \n",
       "1        Household           AC              1              1              0   \n",
       "2        Household           AC              0              1              2   \n",
       "3    Entertainment           TV              0              0              0   \n",
       "4    Entertainment           TV              0              0              0   \n",
       "\n",
       "   TV_2001_Issue  TV_2002_Issue  TV_2003_Issue  Claim_Value  Service_Centre  \\\n",
       "0              1              2              0      15000.0              10   \n",
       "1              0              0              0      20000.0              12   \n",
       "2              0              0              0      18000.0              14   \n",
       "3              1              1              0      12000.0              16   \n",
       "4              0              1              2      25000.0              15   \n",
       "\n",
       "   Product_Age Purchased_from  Call_details    Purpose  Fraud  \n",
       "0           60   Manufacturer           0.5  Complaint      1  \n",
       "1           10         Dealer           1.0  Complaint      0  \n",
       "2           10         Dealer           1.4      Claim      0  \n",
       "3           20   Manufacturer           2.0  Complaint      0  \n",
       "4            6         Dealer           1.3      Claim      0  "
      ]
     },
     "execution_count": 4,
     "metadata": {},
     "output_type": "execute_result"
    }
   ],
   "source": [
    "data.head()"
   ]
  },
  {
   "cell_type": "code",
   "execution_count": 6,
   "metadata": {},
   "outputs": [
    {
     "data": {
      "text/plain": [
       "0    323\n",
       "1     35\n",
       "Name: Fraud, dtype: int64"
      ]
     },
     "execution_count": 6,
     "metadata": {},
     "output_type": "execute_result"
    }
   ],
   "source": [
    "data['Fraud'].value_counts() # to get the insights of the target class"
   ]
  },
  {
   "cell_type": "code",
   "execution_count": 7,
   "metadata": {},
   "outputs": [
    {
     "data": {
      "text/plain": [
       "Index(['Region', 'State', 'Area', 'City', 'Consumer_profile',\n",
       "       'Product_category', 'Product_type', 'AC_1001_Issue', 'AC_1002_Issue',\n",
       "       'AC_1003_Issue', 'TV_2001_Issue', 'TV_2002_Issue', 'TV_2003_Issue',\n",
       "       'Claim_Value', 'Service_Centre', 'Product_Age', 'Purchased_from',\n",
       "       'Call_details', 'Purpose', 'Fraud'],\n",
       "      dtype='object')"
      ]
     },
     "execution_count": 7,
     "metadata": {},
     "output_type": "execute_result"
    }
   ],
   "source": [
    "data.columns"
   ]
  },
  {
   "cell_type": "code",
   "execution_count": 8,
   "metadata": {},
   "outputs": [],
   "source": [
    "X=data[['AC_1001_Issue', 'AC_1002_Issue',\n",
    "       'AC_1003_Issue', 'TV_2001_Issue', 'TV_2002_Issue', 'TV_2003_Issue',\n",
    "       'Claim_Value', 'Product_Age', 'Purchased_from',\n",
    "       'Call_details', 'Purpose']]"
   ]
  },
  {
   "cell_type": "code",
   "execution_count": 9,
   "metadata": {},
   "outputs": [],
   "source": [
    "Y=data['Fraud']"
   ]
  },
  {
   "cell_type": "code",
   "execution_count": 10,
   "metadata": {},
   "outputs": [],
   "source": [
    "X=pd.get_dummies(X,drop_first=True) # convert catagorical features into numeric as computer dont understand strings"
   ]
  },
  {
   "cell_type": "code",
   "execution_count": 11,
   "metadata": {},
   "outputs": [
    {
     "data": {
      "text/html": [
       "<div>\n",
       "<style scoped>\n",
       "    .dataframe tbody tr th:only-of-type {\n",
       "        vertical-align: middle;\n",
       "    }\n",
       "\n",
       "    .dataframe tbody tr th {\n",
       "        vertical-align: top;\n",
       "    }\n",
       "\n",
       "    .dataframe thead th {\n",
       "        text-align: right;\n",
       "    }\n",
       "</style>\n",
       "<table border=\"1\" class=\"dataframe\">\n",
       "  <thead>\n",
       "    <tr style=\"text-align: right;\">\n",
       "      <th></th>\n",
       "      <th>AC_1001_Issue</th>\n",
       "      <th>AC_1002_Issue</th>\n",
       "      <th>AC_1003_Issue</th>\n",
       "      <th>TV_2001_Issue</th>\n",
       "      <th>TV_2002_Issue</th>\n",
       "      <th>TV_2003_Issue</th>\n",
       "      <th>Claim_Value</th>\n",
       "      <th>Product_Age</th>\n",
       "      <th>Call_details</th>\n",
       "      <th>Purchased_from_Internet</th>\n",
       "      <th>Purchased_from_Manufacturer</th>\n",
       "      <th>Purpose_Complaint</th>\n",
       "      <th>Purpose_Other</th>\n",
       "    </tr>\n",
       "  </thead>\n",
       "  <tbody>\n",
       "    <tr>\n",
       "      <th>0</th>\n",
       "      <td>0</td>\n",
       "      <td>0</td>\n",
       "      <td>0</td>\n",
       "      <td>1</td>\n",
       "      <td>2</td>\n",
       "      <td>0</td>\n",
       "      <td>15000.0</td>\n",
       "      <td>60</td>\n",
       "      <td>0.5</td>\n",
       "      <td>0</td>\n",
       "      <td>1</td>\n",
       "      <td>1</td>\n",
       "      <td>0</td>\n",
       "    </tr>\n",
       "    <tr>\n",
       "      <th>1</th>\n",
       "      <td>1</td>\n",
       "      <td>1</td>\n",
       "      <td>0</td>\n",
       "      <td>0</td>\n",
       "      <td>0</td>\n",
       "      <td>0</td>\n",
       "      <td>20000.0</td>\n",
       "      <td>10</td>\n",
       "      <td>1.0</td>\n",
       "      <td>0</td>\n",
       "      <td>0</td>\n",
       "      <td>1</td>\n",
       "      <td>0</td>\n",
       "    </tr>\n",
       "    <tr>\n",
       "      <th>2</th>\n",
       "      <td>0</td>\n",
       "      <td>1</td>\n",
       "      <td>2</td>\n",
       "      <td>0</td>\n",
       "      <td>0</td>\n",
       "      <td>0</td>\n",
       "      <td>18000.0</td>\n",
       "      <td>10</td>\n",
       "      <td>1.4</td>\n",
       "      <td>0</td>\n",
       "      <td>0</td>\n",
       "      <td>0</td>\n",
       "      <td>0</td>\n",
       "    </tr>\n",
       "    <tr>\n",
       "      <th>3</th>\n",
       "      <td>0</td>\n",
       "      <td>0</td>\n",
       "      <td>0</td>\n",
       "      <td>1</td>\n",
       "      <td>1</td>\n",
       "      <td>0</td>\n",
       "      <td>12000.0</td>\n",
       "      <td>20</td>\n",
       "      <td>2.0</td>\n",
       "      <td>0</td>\n",
       "      <td>1</td>\n",
       "      <td>1</td>\n",
       "      <td>0</td>\n",
       "    </tr>\n",
       "    <tr>\n",
       "      <th>4</th>\n",
       "      <td>0</td>\n",
       "      <td>0</td>\n",
       "      <td>0</td>\n",
       "      <td>0</td>\n",
       "      <td>1</td>\n",
       "      <td>2</td>\n",
       "      <td>25000.0</td>\n",
       "      <td>6</td>\n",
       "      <td>1.3</td>\n",
       "      <td>0</td>\n",
       "      <td>0</td>\n",
       "      <td>0</td>\n",
       "      <td>0</td>\n",
       "    </tr>\n",
       "  </tbody>\n",
       "</table>\n",
       "</div>"
      ],
      "text/plain": [
       "   AC_1001_Issue  AC_1002_Issue  AC_1003_Issue  TV_2001_Issue  TV_2002_Issue  \\\n",
       "0              0              0              0              1              2   \n",
       "1              1              1              0              0              0   \n",
       "2              0              1              2              0              0   \n",
       "3              0              0              0              1              1   \n",
       "4              0              0              0              0              1   \n",
       "\n",
       "   TV_2003_Issue  Claim_Value  Product_Age  Call_details  \\\n",
       "0              0      15000.0           60           0.5   \n",
       "1              0      20000.0           10           1.0   \n",
       "2              0      18000.0           10           1.4   \n",
       "3              0      12000.0           20           2.0   \n",
       "4              2      25000.0            6           1.3   \n",
       "\n",
       "   Purchased_from_Internet  Purchased_from_Manufacturer  Purpose_Complaint  \\\n",
       "0                        0                            1                  1   \n",
       "1                        0                            0                  1   \n",
       "2                        0                            0                  0   \n",
       "3                        0                            1                  1   \n",
       "4                        0                            0                  0   \n",
       "\n",
       "   Purpose_Other  \n",
       "0              0  \n",
       "1              0  \n",
       "2              0  \n",
       "3              0  \n",
       "4              0  "
      ]
     },
     "execution_count": 11,
     "metadata": {},
     "output_type": "execute_result"
    }
   ],
   "source": [
    "X.head()"
   ]
  },
  {
   "cell_type": "code",
   "execution_count": 12,
   "metadata": {},
   "outputs": [],
   "source": [
    "# Normalize the feature\n",
    "from sklearn.preprocessing import StandardScaler"
   ]
  },
  {
   "cell_type": "code",
   "execution_count": 13,
   "metadata": {},
   "outputs": [],
   "source": [
    "sc=StandardScaler()"
   ]
  },
  {
   "cell_type": "code",
   "execution_count": 15,
   "metadata": {},
   "outputs": [],
   "source": [
    "x_sc= sc.fit_transform(X)\n"
   ]
  },
  {
   "cell_type": "code",
   "execution_count": 16,
   "metadata": {},
   "outputs": [],
   "source": [
    "X_norm=pd.DataFrame(x_sc,columns=X.columns)"
   ]
  },
  {
   "cell_type": "code",
   "execution_count": 17,
   "metadata": {},
   "outputs": [
    {
     "data": {
      "text/html": [
       "<div>\n",
       "<style scoped>\n",
       "    .dataframe tbody tr th:only-of-type {\n",
       "        vertical-align: middle;\n",
       "    }\n",
       "\n",
       "    .dataframe tbody tr th {\n",
       "        vertical-align: top;\n",
       "    }\n",
       "\n",
       "    .dataframe thead th {\n",
       "        text-align: right;\n",
       "    }\n",
       "</style>\n",
       "<table border=\"1\" class=\"dataframe\">\n",
       "  <thead>\n",
       "    <tr style=\"text-align: right;\">\n",
       "      <th></th>\n",
       "      <th>AC_1001_Issue</th>\n",
       "      <th>AC_1002_Issue</th>\n",
       "      <th>AC_1003_Issue</th>\n",
       "      <th>TV_2001_Issue</th>\n",
       "      <th>TV_2002_Issue</th>\n",
       "      <th>TV_2003_Issue</th>\n",
       "      <th>Claim_Value</th>\n",
       "      <th>Product_Age</th>\n",
       "      <th>Call_details</th>\n",
       "      <th>Purchased_from_Internet</th>\n",
       "      <th>Purchased_from_Manufacturer</th>\n",
       "      <th>Purpose_Complaint</th>\n",
       "      <th>Purpose_Other</th>\n",
       "    </tr>\n",
       "  </thead>\n",
       "  <tbody>\n",
       "    <tr>\n",
       "      <th>0</th>\n",
       "      <td>-0.528826</td>\n",
       "      <td>-0.536541</td>\n",
       "      <td>-0.385596</td>\n",
       "      <td>1.002949</td>\n",
       "      <td>2.309777</td>\n",
       "      <td>-0.528239</td>\n",
       "      <td>0.249492</td>\n",
       "      <td>-0.546880</td>\n",
       "      <td>-0.990343</td>\n",
       "      <td>-0.553687</td>\n",
       "      <td>1.285244</td>\n",
       "      <td>1.205012</td>\n",
       "      <td>-0.359635</td>\n",
       "    </tr>\n",
       "    <tr>\n",
       "      <th>1</th>\n",
       "      <td>1.062096</td>\n",
       "      <td>1.091270</td>\n",
       "      <td>-0.385596</td>\n",
       "      <td>-0.607166</td>\n",
       "      <td>-0.675422</td>\n",
       "      <td>-0.528239</td>\n",
       "      <td>0.664555</td>\n",
       "      <td>-0.739656</td>\n",
       "      <td>-0.947028</td>\n",
       "      <td>-0.553687</td>\n",
       "      <td>-0.778062</td>\n",
       "      <td>1.205012</td>\n",
       "      <td>-0.359635</td>\n",
       "    </tr>\n",
       "    <tr>\n",
       "      <th>2</th>\n",
       "      <td>-0.528826</td>\n",
       "      <td>1.091270</td>\n",
       "      <td>3.396416</td>\n",
       "      <td>-0.607166</td>\n",
       "      <td>-0.675422</td>\n",
       "      <td>-0.528239</td>\n",
       "      <td>0.498530</td>\n",
       "      <td>-0.739656</td>\n",
       "      <td>-0.912376</td>\n",
       "      <td>-0.553687</td>\n",
       "      <td>-0.778062</td>\n",
       "      <td>-0.829867</td>\n",
       "      <td>-0.359635</td>\n",
       "    </tr>\n",
       "    <tr>\n",
       "      <th>3</th>\n",
       "      <td>-0.528826</td>\n",
       "      <td>-0.536541</td>\n",
       "      <td>-0.385596</td>\n",
       "      <td>1.002949</td>\n",
       "      <td>0.817178</td>\n",
       "      <td>-0.528239</td>\n",
       "      <td>0.000454</td>\n",
       "      <td>-0.701101</td>\n",
       "      <td>-0.860398</td>\n",
       "      <td>-0.553687</td>\n",
       "      <td>1.285244</td>\n",
       "      <td>1.205012</td>\n",
       "      <td>-0.359635</td>\n",
       "    </tr>\n",
       "    <tr>\n",
       "      <th>4</th>\n",
       "      <td>-0.528826</td>\n",
       "      <td>-0.536541</td>\n",
       "      <td>-0.385596</td>\n",
       "      <td>-0.607166</td>\n",
       "      <td>0.817178</td>\n",
       "      <td>3.411541</td>\n",
       "      <td>1.079618</td>\n",
       "      <td>-0.755078</td>\n",
       "      <td>-0.921039</td>\n",
       "      <td>-0.553687</td>\n",
       "      <td>-0.778062</td>\n",
       "      <td>-0.829867</td>\n",
       "      <td>-0.359635</td>\n",
       "    </tr>\n",
       "  </tbody>\n",
       "</table>\n",
       "</div>"
      ],
      "text/plain": [
       "   AC_1001_Issue  AC_1002_Issue  AC_1003_Issue  TV_2001_Issue  TV_2002_Issue  \\\n",
       "0      -0.528826      -0.536541      -0.385596       1.002949       2.309777   \n",
       "1       1.062096       1.091270      -0.385596      -0.607166      -0.675422   \n",
       "2      -0.528826       1.091270       3.396416      -0.607166      -0.675422   \n",
       "3      -0.528826      -0.536541      -0.385596       1.002949       0.817178   \n",
       "4      -0.528826      -0.536541      -0.385596      -0.607166       0.817178   \n",
       "\n",
       "   TV_2003_Issue  Claim_Value  Product_Age  Call_details  \\\n",
       "0      -0.528239     0.249492    -0.546880     -0.990343   \n",
       "1      -0.528239     0.664555    -0.739656     -0.947028   \n",
       "2      -0.528239     0.498530    -0.739656     -0.912376   \n",
       "3      -0.528239     0.000454    -0.701101     -0.860398   \n",
       "4       3.411541     1.079618    -0.755078     -0.921039   \n",
       "\n",
       "   Purchased_from_Internet  Purchased_from_Manufacturer  Purpose_Complaint  \\\n",
       "0                -0.553687                     1.285244           1.205012   \n",
       "1                -0.553687                    -0.778062           1.205012   \n",
       "2                -0.553687                    -0.778062          -0.829867   \n",
       "3                -0.553687                     1.285244           1.205012   \n",
       "4                -0.553687                    -0.778062          -0.829867   \n",
       "\n",
       "   Purpose_Other  \n",
       "0      -0.359635  \n",
       "1      -0.359635  \n",
       "2      -0.359635  \n",
       "3      -0.359635  \n",
       "4      -0.359635  "
      ]
     },
     "execution_count": 17,
     "metadata": {},
     "output_type": "execute_result"
    }
   ],
   "source": [
    "X_norm.head()"
   ]
  },
  {
   "cell_type": "markdown",
   "metadata": {},
   "source": [
    "## divide the datasets into training and testing"
   ]
  },
  {
   "cell_type": "code",
   "execution_count": 19,
   "metadata": {},
   "outputs": [],
   "source": [
    "from sklearn.model_selection import train_test_split"
   ]
  },
  {
   "cell_type": "code",
   "execution_count": 20,
   "metadata": {},
   "outputs": [],
   "source": [
    "x_train,x_test,y_train,y_test=train_test_split(X_norm,Y, test_size= 0.3, random_state= 100)"
   ]
  },
  {
   "cell_type": "code",
   "execution_count": 21,
   "metadata": {},
   "outputs": [
    {
     "data": {
      "text/plain": [
       "0    224\n",
       "1     26\n",
       "Name: Fraud, dtype: int64"
      ]
     },
     "execution_count": 21,
     "metadata": {},
     "output_type": "execute_result"
    }
   ],
   "source": [
    "y_train.value_counts()"
   ]
  },
  {
   "cell_type": "markdown",
   "metadata": {},
   "source": [
    "## upsampling by SMOTE"
   ]
  },
  {
   "cell_type": "code",
   "execution_count": 33,
   "metadata": {},
   "outputs": [],
   "source": [
    "from imblearn.over_sampling import SMOTE"
   ]
  },
  {
   "cell_type": "code",
   "execution_count": 34,
   "metadata": {},
   "outputs": [],
   "source": [
    "sm=SMOTE(sampling_strategy=1,random_state=12)"
   ]
  },
  {
   "cell_type": "code",
   "execution_count": 35,
   "metadata": {},
   "outputs": [],
   "source": [
    "x_train_os,y_train_os=sm.fit_sample(x_train,y_train)"
   ]
  },
  {
   "cell_type": "code",
   "execution_count": 36,
   "metadata": {},
   "outputs": [
    {
     "data": {
      "text/plain": [
       "1    224\n",
       "0    224\n",
       "Name: Fraud, dtype: int64"
      ]
     },
     "execution_count": 36,
     "metadata": {},
     "output_type": "execute_result"
    }
   ],
   "source": [
    "y_train_os.value_counts()"
   ]
  },
  {
   "cell_type": "code",
   "execution_count": 37,
   "metadata": {},
   "outputs": [],
   "source": [
    "# Now we have balanced training set"
   ]
  },
  {
   "cell_type": "code",
   "execution_count": 38,
   "metadata": {},
   "outputs": [],
   "source": [
    "# lets use Random forest classifier to build model"
   ]
  },
  {
   "cell_type": "markdown",
   "metadata": {},
   "source": [
    "### Random Forest Classifier"
   ]
  },
  {
   "cell_type": "code",
   "execution_count": 39,
   "metadata": {},
   "outputs": [],
   "source": [
    "from sklearn.ensemble import RandomForestClassifier"
   ]
  },
  {
   "cell_type": "code",
   "execution_count": 40,
   "metadata": {},
   "outputs": [],
   "source": [
    "rfc=RandomForestClassifier(n_estimators=100)"
   ]
  },
  {
   "cell_type": "code",
   "execution_count": 41,
   "metadata": {},
   "outputs": [
    {
     "data": {
      "text/plain": [
       "RandomForestClassifier()"
      ]
     },
     "execution_count": 41,
     "metadata": {},
     "output_type": "execute_result"
    }
   ],
   "source": [
    "rfc.fit(x_train_os,y_train_os)"
   ]
  },
  {
   "cell_type": "code",
   "execution_count": 42,
   "metadata": {},
   "outputs": [],
   "source": [
    "y_predict_rfc_=rfc.predict(x_test)"
   ]
  },
  {
   "cell_type": "code",
   "execution_count": 43,
   "metadata": {},
   "outputs": [],
   "source": [
    "from sklearn.metrics import classification_report,confusion_matrix"
   ]
  },
  {
   "cell_type": "code",
   "execution_count": 44,
   "metadata": {},
   "outputs": [
    {
     "data": {
      "text/plain": [
       "array([[92,  7],\n",
       "       [ 8,  1]])"
      ]
     },
     "execution_count": 44,
     "metadata": {},
     "output_type": "execute_result"
    }
   ],
   "source": [
    "confusion_matrix(y_test,y_predict_rfc_)"
   ]
  },
  {
   "cell_type": "code",
   "execution_count": 45,
   "metadata": {},
   "outputs": [
    {
     "name": "stdout",
     "output_type": "stream",
     "text": [
      "              precision    recall  f1-score   support\n",
      "\n",
      "           0       0.92      0.93      0.92        99\n",
      "           1       0.12      0.11      0.12         9\n",
      "\n",
      "    accuracy                           0.86       108\n",
      "   macro avg       0.52      0.52      0.52       108\n",
      "weighted avg       0.85      0.86      0.86       108\n",
      "\n"
     ]
    }
   ],
   "source": [
    "print(classification_report(y_test,y_predict_rfc_))"
   ]
  },
  {
   "cell_type": "code",
   "execution_count": 46,
   "metadata": {},
   "outputs": [
    {
     "data": {
      "text/html": [
       "<div>\n",
       "<style scoped>\n",
       "    .dataframe tbody tr th:only-of-type {\n",
       "        vertical-align: middle;\n",
       "    }\n",
       "\n",
       "    .dataframe tbody tr th {\n",
       "        vertical-align: top;\n",
       "    }\n",
       "\n",
       "    .dataframe thead th {\n",
       "        text-align: right;\n",
       "    }\n",
       "</style>\n",
       "<table border=\"1\" class=\"dataframe\">\n",
       "  <thead>\n",
       "    <tr style=\"text-align: right;\">\n",
       "      <th></th>\n",
       "      <th>AC_1001_Issue</th>\n",
       "      <th>AC_1002_Issue</th>\n",
       "      <th>AC_1003_Issue</th>\n",
       "      <th>TV_2001_Issue</th>\n",
       "      <th>TV_2002_Issue</th>\n",
       "      <th>TV_2003_Issue</th>\n",
       "      <th>Claim_Value</th>\n",
       "      <th>Product_Age</th>\n",
       "      <th>Call_details</th>\n",
       "      <th>Purchased_from_Internet</th>\n",
       "      <th>Purchased_from_Manufacturer</th>\n",
       "      <th>Purpose_Complaint</th>\n",
       "      <th>Purpose_Other</th>\n",
       "    </tr>\n",
       "  </thead>\n",
       "  <tbody>\n",
       "    <tr>\n",
       "      <th>213</th>\n",
       "      <td>1.062096</td>\n",
       "      <td>1.091270</td>\n",
       "      <td>-0.385596</td>\n",
       "      <td>-0.607166</td>\n",
       "      <td>-0.675422</td>\n",
       "      <td>-0.528239</td>\n",
       "      <td>-0.663648</td>\n",
       "      <td>-0.639413</td>\n",
       "      <td>-0.600507</td>\n",
       "      <td>1.806074</td>\n",
       "      <td>-0.778062</td>\n",
       "      <td>1.205012</td>\n",
       "      <td>-0.359635</td>\n",
       "    </tr>\n",
       "    <tr>\n",
       "      <th>124</th>\n",
       "      <td>-0.528826</td>\n",
       "      <td>-0.536541</td>\n",
       "      <td>-0.385596</td>\n",
       "      <td>1.002949</td>\n",
       "      <td>0.817178</td>\n",
       "      <td>-0.528239</td>\n",
       "      <td>-0.517213</td>\n",
       "      <td>0.675319</td>\n",
       "      <td>0.698946</td>\n",
       "      <td>-0.553687</td>\n",
       "      <td>-0.778062</td>\n",
       "      <td>-0.829867</td>\n",
       "      <td>2.780595</td>\n",
       "    </tr>\n",
       "    <tr>\n",
       "      <th>54</th>\n",
       "      <td>-0.528826</td>\n",
       "      <td>-0.536541</td>\n",
       "      <td>-0.385596</td>\n",
       "      <td>1.002949</td>\n",
       "      <td>-0.675422</td>\n",
       "      <td>3.411541</td>\n",
       "      <td>0.249492</td>\n",
       "      <td>-0.720379</td>\n",
       "      <td>-0.921039</td>\n",
       "      <td>-0.553687</td>\n",
       "      <td>-0.778062</td>\n",
       "      <td>1.205012</td>\n",
       "      <td>-0.359635</td>\n",
       "    </tr>\n",
       "    <tr>\n",
       "      <th>142</th>\n",
       "      <td>-0.528826</td>\n",
       "      <td>-0.536541</td>\n",
       "      <td>-0.385596</td>\n",
       "      <td>1.002949</td>\n",
       "      <td>2.309777</td>\n",
       "      <td>1.441651</td>\n",
       "      <td>-0.645717</td>\n",
       "      <td>1.635343</td>\n",
       "      <td>1.565248</td>\n",
       "      <td>1.806074</td>\n",
       "      <td>-0.778062</td>\n",
       "      <td>1.205012</td>\n",
       "      <td>-0.359635</td>\n",
       "    </tr>\n",
       "    <tr>\n",
       "      <th>65</th>\n",
       "      <td>1.062096</td>\n",
       "      <td>1.091270</td>\n",
       "      <td>3.396416</td>\n",
       "      <td>-0.607166</td>\n",
       "      <td>-0.675422</td>\n",
       "      <td>-0.528239</td>\n",
       "      <td>-0.165572</td>\n",
       "      <td>-0.731945</td>\n",
       "      <td>-0.470562</td>\n",
       "      <td>-0.553687</td>\n",
       "      <td>-0.778062</td>\n",
       "      <td>-0.829867</td>\n",
       "      <td>-0.359635</td>\n",
       "    </tr>\n",
       "  </tbody>\n",
       "</table>\n",
       "</div>"
      ],
      "text/plain": [
       "     AC_1001_Issue  AC_1002_Issue  AC_1003_Issue  TV_2001_Issue  \\\n",
       "213       1.062096       1.091270      -0.385596      -0.607166   \n",
       "124      -0.528826      -0.536541      -0.385596       1.002949   \n",
       "54       -0.528826      -0.536541      -0.385596       1.002949   \n",
       "142      -0.528826      -0.536541      -0.385596       1.002949   \n",
       "65        1.062096       1.091270       3.396416      -0.607166   \n",
       "\n",
       "     TV_2002_Issue  TV_2003_Issue  Claim_Value  Product_Age  Call_details  \\\n",
       "213      -0.675422      -0.528239    -0.663648    -0.639413     -0.600507   \n",
       "124       0.817178      -0.528239    -0.517213     0.675319      0.698946   \n",
       "54       -0.675422       3.411541     0.249492    -0.720379     -0.921039   \n",
       "142       2.309777       1.441651    -0.645717     1.635343      1.565248   \n",
       "65       -0.675422      -0.528239    -0.165572    -0.731945     -0.470562   \n",
       "\n",
       "     Purchased_from_Internet  Purchased_from_Manufacturer  Purpose_Complaint  \\\n",
       "213                 1.806074                    -0.778062           1.205012   \n",
       "124                -0.553687                    -0.778062          -0.829867   \n",
       "54                 -0.553687                    -0.778062           1.205012   \n",
       "142                 1.806074                    -0.778062           1.205012   \n",
       "65                 -0.553687                    -0.778062          -0.829867   \n",
       "\n",
       "     Purpose_Other  \n",
       "213      -0.359635  \n",
       "124       2.780595  \n",
       "54       -0.359635  \n",
       "142      -0.359635  \n",
       "65       -0.359635  "
      ]
     },
     "execution_count": 46,
     "metadata": {},
     "output_type": "execute_result"
    }
   ],
   "source": [
    "x_train.head()"
   ]
  },
  {
   "cell_type": "code",
   "execution_count": 47,
   "metadata": {},
   "outputs": [
    {
     "data": {
      "text/plain": [
       "(250,)"
      ]
     },
     "execution_count": 47,
     "metadata": {},
     "output_type": "execute_result"
    }
   ],
   "source": [
    "y_train.shape"
   ]
  },
  {
   "cell_type": "markdown",
   "metadata": {},
   "source": [
    "## Hyperparameters optimization"
   ]
  },
  {
   "cell_type": "code",
   "execution_count": 48,
   "metadata": {},
   "outputs": [
    {
     "name": "stderr",
     "output_type": "stream",
     "text": [
      "/Users/abhyudaya/opt/anaconda3/lib/python3.8/site-packages/sklearn/base.py:209: FutureWarning: From version 0.24, get_params will raise an AttributeError if a parameter cannot be retrieved as an instance attribute. Previously it would return None.\n",
      "  warnings.warn('From version 0.24, get_params will raise an '\n"
     ]
    },
    {
     "data": {
      "text/plain": [
       "dict_keys(['bootstrap', 'ccp_alpha', 'class_weight', 'criterion', 'max_depth', 'max_features', 'max_leaf_nodes', 'max_samples', 'min_impurity_decrease', 'min_impurity_split', 'min_samples_leaf', 'min_samples_split', 'min_weight_fraction_leaf', 'n_estimators', 'n_jobs', 'oob_score', 'random_state', 'verbose', 'warm_start'])"
      ]
     },
     "execution_count": 48,
     "metadata": {},
     "output_type": "execute_result"
    }
   ],
   "source": [
    "RandomForestClassifier.get_params(RandomForestClassifier).keys()"
   ]
  },
  {
   "cell_type": "code",
   "execution_count": 49,
   "metadata": {},
   "outputs": [],
   "source": [
    "n_estimators=[50,100,150,200]\n",
    "max_depth=[1,3,5,None]\n",
    "criterion=[\"gini\",\"entropy\"]\n",
    "\n",
    "\n"
   ]
  },
  {
   "cell_type": "code",
   "execution_count": 50,
   "metadata": {},
   "outputs": [],
   "source": [
    "from sklearn.model_selection import GridSearchCV"
   ]
  },
  {
   "cell_type": "code",
   "execution_count": 51,
   "metadata": {},
   "outputs": [],
   "source": [
    "gsc=GridSearchCV(estimator=RandomForestClassifier(),param_grid={'n_estimators':n_estimators,'max_depth':max_depth,\n",
    "                                                               'criterion':criterion},cv=5,verbose=2)"
   ]
  },
  {
   "cell_type": "code",
   "execution_count": 52,
   "metadata": {},
   "outputs": [
    {
     "name": "stdout",
     "output_type": "stream",
     "text": [
      "Fitting 5 folds for each of 32 candidates, totalling 160 fits\n",
      "[CV] criterion=gini, max_depth=1, n_estimators=50 ....................\n",
      "[CV] ..... criterion=gini, max_depth=1, n_estimators=50, total=   0.1s\n",
      "[CV] criterion=gini, max_depth=1, n_estimators=50 ....................\n",
      "[CV] ..... criterion=gini, max_depth=1, n_estimators=50, total=   0.1s\n",
      "[CV] criterion=gini, max_depth=1, n_estimators=50 ....................\n"
     ]
    },
    {
     "name": "stderr",
     "output_type": "stream",
     "text": [
      "[Parallel(n_jobs=1)]: Using backend SequentialBackend with 1 concurrent workers.\n",
      "[Parallel(n_jobs=1)]: Done   1 out of   1 | elapsed:    0.1s remaining:    0.0s\n"
     ]
    },
    {
     "name": "stdout",
     "output_type": "stream",
     "text": [
      "[CV] ..... criterion=gini, max_depth=1, n_estimators=50, total=   0.1s\n",
      "[CV] criterion=gini, max_depth=1, n_estimators=50 ....................\n",
      "[CV] ..... criterion=gini, max_depth=1, n_estimators=50, total=   0.1s\n",
      "[CV] criterion=gini, max_depth=1, n_estimators=50 ....................\n",
      "[CV] ..... criterion=gini, max_depth=1, n_estimators=50, total=   0.1s\n",
      "[CV] criterion=gini, max_depth=1, n_estimators=100 ...................\n",
      "[CV] .... criterion=gini, max_depth=1, n_estimators=100, total=   0.2s\n",
      "[CV] criterion=gini, max_depth=1, n_estimators=100 ...................\n",
      "[CV] .... criterion=gini, max_depth=1, n_estimators=100, total=   0.1s\n",
      "[CV] criterion=gini, max_depth=1, n_estimators=100 ...................\n",
      "[CV] .... criterion=gini, max_depth=1, n_estimators=100, total=   0.2s\n",
      "[CV] criterion=gini, max_depth=1, n_estimators=100 ...................\n",
      "[CV] .... criterion=gini, max_depth=1, n_estimators=100, total=   0.2s\n",
      "[CV] criterion=gini, max_depth=1, n_estimators=100 ...................\n",
      "[CV] .... criterion=gini, max_depth=1, n_estimators=100, total=   0.2s\n",
      "[CV] criterion=gini, max_depth=1, n_estimators=150 ...................\n",
      "[CV] .... criterion=gini, max_depth=1, n_estimators=150, total=   0.2s\n",
      "[CV] criterion=gini, max_depth=1, n_estimators=150 ...................\n",
      "[CV] .... criterion=gini, max_depth=1, n_estimators=150, total=   0.2s\n",
      "[CV] criterion=gini, max_depth=1, n_estimators=150 ...................\n",
      "[CV] .... criterion=gini, max_depth=1, n_estimators=150, total=   0.2s\n",
      "[CV] criterion=gini, max_depth=1, n_estimators=150 ...................\n",
      "[CV] .... criterion=gini, max_depth=1, n_estimators=150, total=   0.2s\n",
      "[CV] criterion=gini, max_depth=1, n_estimators=150 ...................\n",
      "[CV] .... criterion=gini, max_depth=1, n_estimators=150, total=   0.3s\n",
      "[CV] criterion=gini, max_depth=1, n_estimators=200 ...................\n",
      "[CV] .... criterion=gini, max_depth=1, n_estimators=200, total=   0.4s\n",
      "[CV] criterion=gini, max_depth=1, n_estimators=200 ...................\n",
      "[CV] .... criterion=gini, max_depth=1, n_estimators=200, total=   0.4s\n",
      "[CV] criterion=gini, max_depth=1, n_estimators=200 ...................\n",
      "[CV] .... criterion=gini, max_depth=1, n_estimators=200, total=   0.4s\n",
      "[CV] criterion=gini, max_depth=1, n_estimators=200 ...................\n",
      "[CV] .... criterion=gini, max_depth=1, n_estimators=200, total=   0.3s\n",
      "[CV] criterion=gini, max_depth=1, n_estimators=200 ...................\n",
      "[CV] .... criterion=gini, max_depth=1, n_estimators=200, total=   0.3s\n",
      "[CV] criterion=gini, max_depth=3, n_estimators=50 ....................\n",
      "[CV] ..... criterion=gini, max_depth=3, n_estimators=50, total=   0.1s\n",
      "[CV] criterion=gini, max_depth=3, n_estimators=50 ....................\n",
      "[CV] ..... criterion=gini, max_depth=3, n_estimators=50, total=   0.1s\n",
      "[CV] criterion=gini, max_depth=3, n_estimators=50 ....................\n",
      "[CV] ..... criterion=gini, max_depth=3, n_estimators=50, total=   0.1s\n",
      "[CV] criterion=gini, max_depth=3, n_estimators=50 ....................\n",
      "[CV] ..... criterion=gini, max_depth=3, n_estimators=50, total=   0.1s\n",
      "[CV] criterion=gini, max_depth=3, n_estimators=50 ....................\n",
      "[CV] ..... criterion=gini, max_depth=3, n_estimators=50, total=   0.1s\n",
      "[CV] criterion=gini, max_depth=3, n_estimators=100 ...................\n",
      "[CV] .... criterion=gini, max_depth=3, n_estimators=100, total=   0.2s\n",
      "[CV] criterion=gini, max_depth=3, n_estimators=100 ...................\n",
      "[CV] .... criterion=gini, max_depth=3, n_estimators=100, total=   0.2s\n",
      "[CV] criterion=gini, max_depth=3, n_estimators=100 ...................\n",
      "[CV] .... criterion=gini, max_depth=3, n_estimators=100, total=   0.2s\n",
      "[CV] criterion=gini, max_depth=3, n_estimators=100 ...................\n",
      "[CV] .... criterion=gini, max_depth=3, n_estimators=100, total=   0.2s\n",
      "[CV] criterion=gini, max_depth=3, n_estimators=100 ...................\n",
      "[CV] .... criterion=gini, max_depth=3, n_estimators=100, total=   0.2s\n",
      "[CV] criterion=gini, max_depth=3, n_estimators=150 ...................\n",
      "[CV] .... criterion=gini, max_depth=3, n_estimators=150, total=   0.3s\n",
      "[CV] criterion=gini, max_depth=3, n_estimators=150 ...................\n",
      "[CV] .... criterion=gini, max_depth=3, n_estimators=150, total=   0.3s\n",
      "[CV] criterion=gini, max_depth=3, n_estimators=150 ...................\n",
      "[CV] .... criterion=gini, max_depth=3, n_estimators=150, total=   0.3s\n",
      "[CV] criterion=gini, max_depth=3, n_estimators=150 ...................\n",
      "[CV] .... criterion=gini, max_depth=3, n_estimators=150, total=   0.4s\n",
      "[CV] criterion=gini, max_depth=3, n_estimators=150 ...................\n",
      "[CV] .... criterion=gini, max_depth=3, n_estimators=150, total=   0.2s\n",
      "[CV] criterion=gini, max_depth=3, n_estimators=200 ...................\n",
      "[CV] .... criterion=gini, max_depth=3, n_estimators=200, total=   0.3s\n",
      "[CV] criterion=gini, max_depth=3, n_estimators=200 ...................\n",
      "[CV] .... criterion=gini, max_depth=3, n_estimators=200, total=   0.3s\n",
      "[CV] criterion=gini, max_depth=3, n_estimators=200 ...................\n",
      "[CV] .... criterion=gini, max_depth=3, n_estimators=200, total=   0.3s\n",
      "[CV] criterion=gini, max_depth=3, n_estimators=200 ...................\n",
      "[CV] .... criterion=gini, max_depth=3, n_estimators=200, total=   0.4s\n",
      "[CV] criterion=gini, max_depth=3, n_estimators=200 ...................\n",
      "[CV] .... criterion=gini, max_depth=3, n_estimators=200, total=   0.4s\n",
      "[CV] criterion=gini, max_depth=5, n_estimators=50 ....................\n",
      "[CV] ..... criterion=gini, max_depth=5, n_estimators=50, total=   0.1s\n",
      "[CV] criterion=gini, max_depth=5, n_estimators=50 ....................\n",
      "[CV] ..... criterion=gini, max_depth=5, n_estimators=50, total=   0.1s\n",
      "[CV] criterion=gini, max_depth=5, n_estimators=50 ....................\n",
      "[CV] ..... criterion=gini, max_depth=5, n_estimators=50, total=   0.1s\n",
      "[CV] criterion=gini, max_depth=5, n_estimators=50 ....................\n",
      "[CV] ..... criterion=gini, max_depth=5, n_estimators=50, total=   0.1s\n",
      "[CV] criterion=gini, max_depth=5, n_estimators=50 ....................\n",
      "[CV] ..... criterion=gini, max_depth=5, n_estimators=50, total=   0.1s\n",
      "[CV] criterion=gini, max_depth=5, n_estimators=100 ...................\n",
      "[CV] .... criterion=gini, max_depth=5, n_estimators=100, total=   0.2s\n",
      "[CV] criterion=gini, max_depth=5, n_estimators=100 ...................\n",
      "[CV] .... criterion=gini, max_depth=5, n_estimators=100, total=   0.2s\n",
      "[CV] criterion=gini, max_depth=5, n_estimators=100 ...................\n",
      "[CV] .... criterion=gini, max_depth=5, n_estimators=100, total=   0.2s\n",
      "[CV] criterion=gini, max_depth=5, n_estimators=100 ...................\n",
      "[CV] .... criterion=gini, max_depth=5, n_estimators=100, total=   0.3s\n",
      "[CV] criterion=gini, max_depth=5, n_estimators=100 ...................\n",
      "[CV] .... criterion=gini, max_depth=5, n_estimators=100, total=   0.3s\n",
      "[CV] criterion=gini, max_depth=5, n_estimators=150 ...................\n",
      "[CV] .... criterion=gini, max_depth=5, n_estimators=150, total=   0.4s\n",
      "[CV] criterion=gini, max_depth=5, n_estimators=150 ...................\n",
      "[CV] .... criterion=gini, max_depth=5, n_estimators=150, total=   0.3s\n",
      "[CV] criterion=gini, max_depth=5, n_estimators=150 ...................\n",
      "[CV] .... criterion=gini, max_depth=5, n_estimators=150, total=   0.4s\n",
      "[CV] criterion=gini, max_depth=5, n_estimators=150 ...................\n",
      "[CV] .... criterion=gini, max_depth=5, n_estimators=150, total=   0.3s\n",
      "[CV] criterion=gini, max_depth=5, n_estimators=150 ...................\n",
      "[CV] .... criterion=gini, max_depth=5, n_estimators=150, total=   0.4s\n",
      "[CV] criterion=gini, max_depth=5, n_estimators=200 ...................\n",
      "[CV] .... criterion=gini, max_depth=5, n_estimators=200, total=   0.6s\n",
      "[CV] criterion=gini, max_depth=5, n_estimators=200 ...................\n",
      "[CV] .... criterion=gini, max_depth=5, n_estimators=200, total=   0.6s\n",
      "[CV] criterion=gini, max_depth=5, n_estimators=200 ...................\n",
      "[CV] .... criterion=gini, max_depth=5, n_estimators=200, total=   0.6s\n",
      "[CV] criterion=gini, max_depth=5, n_estimators=200 ...................\n",
      "[CV] .... criterion=gini, max_depth=5, n_estimators=200, total=   0.4s\n",
      "[CV] criterion=gini, max_depth=5, n_estimators=200 ...................\n",
      "[CV] .... criterion=gini, max_depth=5, n_estimators=200, total=   0.4s\n",
      "[CV] criterion=gini, max_depth=None, n_estimators=50 .................\n",
      "[CV] .. criterion=gini, max_depth=None, n_estimators=50, total=   0.1s\n",
      "[CV] criterion=gini, max_depth=None, n_estimators=50 .................\n"
     ]
    },
    {
     "name": "stdout",
     "output_type": "stream",
     "text": [
      "[CV] .. criterion=gini, max_depth=None, n_estimators=50, total=   0.1s\n",
      "[CV] criterion=gini, max_depth=None, n_estimators=50 .................\n",
      "[CV] .. criterion=gini, max_depth=None, n_estimators=50, total=   0.1s\n",
      "[CV] criterion=gini, max_depth=None, n_estimators=50 .................\n",
      "[CV] .. criterion=gini, max_depth=None, n_estimators=50, total=   0.1s\n",
      "[CV] criterion=gini, max_depth=None, n_estimators=50 .................\n",
      "[CV] .. criterion=gini, max_depth=None, n_estimators=50, total=   0.1s\n",
      "[CV] criterion=gini, max_depth=None, n_estimators=100 ................\n",
      "[CV] . criterion=gini, max_depth=None, n_estimators=100, total=   0.2s\n",
      "[CV] criterion=gini, max_depth=None, n_estimators=100 ................\n",
      "[CV] . criterion=gini, max_depth=None, n_estimators=100, total=   0.2s\n",
      "[CV] criterion=gini, max_depth=None, n_estimators=100 ................\n",
      "[CV] . criterion=gini, max_depth=None, n_estimators=100, total=   0.3s\n",
      "[CV] criterion=gini, max_depth=None, n_estimators=100 ................\n",
      "[CV] . criterion=gini, max_depth=None, n_estimators=100, total=   0.2s\n",
      "[CV] criterion=gini, max_depth=None, n_estimators=100 ................\n",
      "[CV] . criterion=gini, max_depth=None, n_estimators=100, total=   0.3s\n",
      "[CV] criterion=gini, max_depth=None, n_estimators=150 ................\n",
      "[CV] . criterion=gini, max_depth=None, n_estimators=150, total=   0.4s\n",
      "[CV] criterion=gini, max_depth=None, n_estimators=150 ................\n",
      "[CV] . criterion=gini, max_depth=None, n_estimators=150, total=   0.4s\n",
      "[CV] criterion=gini, max_depth=None, n_estimators=150 ................\n",
      "[CV] . criterion=gini, max_depth=None, n_estimators=150, total=   0.4s\n",
      "[CV] criterion=gini, max_depth=None, n_estimators=150 ................\n",
      "[CV] . criterion=gini, max_depth=None, n_estimators=150, total=   0.4s\n",
      "[CV] criterion=gini, max_depth=None, n_estimators=150 ................\n",
      "[CV] . criterion=gini, max_depth=None, n_estimators=150, total=   0.4s\n",
      "[CV] criterion=gini, max_depth=None, n_estimators=200 ................\n",
      "[CV] . criterion=gini, max_depth=None, n_estimators=200, total=   0.5s\n",
      "[CV] criterion=gini, max_depth=None, n_estimators=200 ................\n",
      "[CV] . criterion=gini, max_depth=None, n_estimators=200, total=   0.6s\n",
      "[CV] criterion=gini, max_depth=None, n_estimators=200 ................\n",
      "[CV] . criterion=gini, max_depth=None, n_estimators=200, total=   0.5s\n",
      "[CV] criterion=gini, max_depth=None, n_estimators=200 ................\n",
      "[CV] . criterion=gini, max_depth=None, n_estimators=200, total=   0.5s\n",
      "[CV] criterion=gini, max_depth=None, n_estimators=200 ................\n",
      "[CV] . criterion=gini, max_depth=None, n_estimators=200, total=   0.5s\n",
      "[CV] criterion=entropy, max_depth=1, n_estimators=50 .................\n",
      "[CV] .. criterion=entropy, max_depth=1, n_estimators=50, total=   0.1s\n",
      "[CV] criterion=entropy, max_depth=1, n_estimators=50 .................\n",
      "[CV] .. criterion=entropy, max_depth=1, n_estimators=50, total=   0.1s\n",
      "[CV] criterion=entropy, max_depth=1, n_estimators=50 .................\n",
      "[CV] .. criterion=entropy, max_depth=1, n_estimators=50, total=   0.1s\n",
      "[CV] criterion=entropy, max_depth=1, n_estimators=50 .................\n",
      "[CV] .. criterion=entropy, max_depth=1, n_estimators=50, total=   0.1s\n",
      "[CV] criterion=entropy, max_depth=1, n_estimators=50 .................\n",
      "[CV] .. criterion=entropy, max_depth=1, n_estimators=50, total=   0.1s\n",
      "[CV] criterion=entropy, max_depth=1, n_estimators=100 ................\n",
      "[CV] . criterion=entropy, max_depth=1, n_estimators=100, total=   0.2s\n",
      "[CV] criterion=entropy, max_depth=1, n_estimators=100 ................\n",
      "[CV] . criterion=entropy, max_depth=1, n_estimators=100, total=   0.2s\n",
      "[CV] criterion=entropy, max_depth=1, n_estimators=100 ................\n",
      "[CV] . criterion=entropy, max_depth=1, n_estimators=100, total=   0.3s\n",
      "[CV] criterion=entropy, max_depth=1, n_estimators=100 ................\n",
      "[CV] . criterion=entropy, max_depth=1, n_estimators=100, total=   0.3s\n",
      "[CV] criterion=entropy, max_depth=1, n_estimators=100 ................\n",
      "[CV] . criterion=entropy, max_depth=1, n_estimators=100, total=   0.3s\n",
      "[CV] criterion=entropy, max_depth=1, n_estimators=150 ................\n",
      "[CV] . criterion=entropy, max_depth=1, n_estimators=150, total=   0.4s\n",
      "[CV] criterion=entropy, max_depth=1, n_estimators=150 ................\n",
      "[CV] . criterion=entropy, max_depth=1, n_estimators=150, total=   0.3s\n",
      "[CV] criterion=entropy, max_depth=1, n_estimators=150 ................\n",
      "[CV] . criterion=entropy, max_depth=1, n_estimators=150, total=   0.2s\n",
      "[CV] criterion=entropy, max_depth=1, n_estimators=150 ................\n",
      "[CV] . criterion=entropy, max_depth=1, n_estimators=150, total=   0.3s\n",
      "[CV] criterion=entropy, max_depth=1, n_estimators=150 ................\n",
      "[CV] . criterion=entropy, max_depth=1, n_estimators=150, total=   0.2s\n",
      "[CV] criterion=entropy, max_depth=1, n_estimators=200 ................\n",
      "[CV] . criterion=entropy, max_depth=1, n_estimators=200, total=   0.3s\n",
      "[CV] criterion=entropy, max_depth=1, n_estimators=200 ................\n",
      "[CV] . criterion=entropy, max_depth=1, n_estimators=200, total=   0.3s\n",
      "[CV] criterion=entropy, max_depth=1, n_estimators=200 ................\n",
      "[CV] . criterion=entropy, max_depth=1, n_estimators=200, total=   0.3s\n",
      "[CV] criterion=entropy, max_depth=1, n_estimators=200 ................\n",
      "[CV] . criterion=entropy, max_depth=1, n_estimators=200, total=   0.3s\n",
      "[CV] criterion=entropy, max_depth=1, n_estimators=200 ................\n",
      "[CV] . criterion=entropy, max_depth=1, n_estimators=200, total=   0.5s\n",
      "[CV] criterion=entropy, max_depth=3, n_estimators=50 .................\n",
      "[CV] .. criterion=entropy, max_depth=3, n_estimators=50, total=   0.1s\n",
      "[CV] criterion=entropy, max_depth=3, n_estimators=50 .................\n",
      "[CV] .. criterion=entropy, max_depth=3, n_estimators=50, total=   0.1s\n",
      "[CV] criterion=entropy, max_depth=3, n_estimators=50 .................\n",
      "[CV] .. criterion=entropy, max_depth=3, n_estimators=50, total=   0.1s\n",
      "[CV] criterion=entropy, max_depth=3, n_estimators=50 .................\n",
      "[CV] .. criterion=entropy, max_depth=3, n_estimators=50, total=   0.1s\n",
      "[CV] criterion=entropy, max_depth=3, n_estimators=50 .................\n",
      "[CV] .. criterion=entropy, max_depth=3, n_estimators=50, total=   0.2s\n",
      "[CV] criterion=entropy, max_depth=3, n_estimators=100 ................\n",
      "[CV] . criterion=entropy, max_depth=3, n_estimators=100, total=   0.3s\n",
      "[CV] criterion=entropy, max_depth=3, n_estimators=100 ................\n",
      "[CV] . criterion=entropy, max_depth=3, n_estimators=100, total=   0.2s\n",
      "[CV] criterion=entropy, max_depth=3, n_estimators=100 ................\n",
      "[CV] . criterion=entropy, max_depth=3, n_estimators=100, total=   0.2s\n",
      "[CV] criterion=entropy, max_depth=3, n_estimators=100 ................\n",
      "[CV] . criterion=entropy, max_depth=3, n_estimators=100, total=   0.2s\n",
      "[CV] criterion=entropy, max_depth=3, n_estimators=100 ................\n",
      "[CV] . criterion=entropy, max_depth=3, n_estimators=100, total=   0.2s\n",
      "[CV] criterion=entropy, max_depth=3, n_estimators=150 ................\n",
      "[CV] . criterion=entropy, max_depth=3, n_estimators=150, total=   0.3s\n",
      "[CV] criterion=entropy, max_depth=3, n_estimators=150 ................\n",
      "[CV] . criterion=entropy, max_depth=3, n_estimators=150, total=   0.3s\n",
      "[CV] criterion=entropy, max_depth=3, n_estimators=150 ................\n",
      "[CV] . criterion=entropy, max_depth=3, n_estimators=150, total=   0.3s\n",
      "[CV] criterion=entropy, max_depth=3, n_estimators=150 ................\n",
      "[CV] . criterion=entropy, max_depth=3, n_estimators=150, total=   0.3s\n",
      "[CV] criterion=entropy, max_depth=3, n_estimators=150 ................\n",
      "[CV] . criterion=entropy, max_depth=3, n_estimators=150, total=   0.3s\n",
      "[CV] criterion=entropy, max_depth=3, n_estimators=200 ................\n",
      "[CV] . criterion=entropy, max_depth=3, n_estimators=200, total=   0.3s\n",
      "[CV] criterion=entropy, max_depth=3, n_estimators=200 ................\n",
      "[CV] . criterion=entropy, max_depth=3, n_estimators=200, total=   0.3s\n",
      "[CV] criterion=entropy, max_depth=3, n_estimators=200 ................\n",
      "[CV] . criterion=entropy, max_depth=3, n_estimators=200, total=   0.3s\n",
      "[CV] criterion=entropy, max_depth=3, n_estimators=200 ................\n",
      "[CV] . criterion=entropy, max_depth=3, n_estimators=200, total=   0.3s\n",
      "[CV] criterion=entropy, max_depth=3, n_estimators=200 ................\n"
     ]
    },
    {
     "name": "stdout",
     "output_type": "stream",
     "text": [
      "[CV] . criterion=entropy, max_depth=3, n_estimators=200, total=   0.3s\n",
      "[CV] criterion=entropy, max_depth=5, n_estimators=50 .................\n",
      "[CV] .. criterion=entropy, max_depth=5, n_estimators=50, total=   0.1s\n",
      "[CV] criterion=entropy, max_depth=5, n_estimators=50 .................\n",
      "[CV] .. criterion=entropy, max_depth=5, n_estimators=50, total=   0.1s\n",
      "[CV] criterion=entropy, max_depth=5, n_estimators=50 .................\n",
      "[CV] .. criterion=entropy, max_depth=5, n_estimators=50, total=   0.1s\n",
      "[CV] criterion=entropy, max_depth=5, n_estimators=50 .................\n",
      "[CV] .. criterion=entropy, max_depth=5, n_estimators=50, total=   0.1s\n",
      "[CV] criterion=entropy, max_depth=5, n_estimators=50 .................\n",
      "[CV] .. criterion=entropy, max_depth=5, n_estimators=50, total=   0.1s\n",
      "[CV] criterion=entropy, max_depth=5, n_estimators=100 ................\n",
      "[CV] . criterion=entropy, max_depth=5, n_estimators=100, total=   0.2s\n",
      "[CV] criterion=entropy, max_depth=5, n_estimators=100 ................\n",
      "[CV] . criterion=entropy, max_depth=5, n_estimators=100, total=   0.2s\n",
      "[CV] criterion=entropy, max_depth=5, n_estimators=100 ................\n",
      "[CV] . criterion=entropy, max_depth=5, n_estimators=100, total=   0.2s\n",
      "[CV] criterion=entropy, max_depth=5, n_estimators=100 ................\n",
      "[CV] . criterion=entropy, max_depth=5, n_estimators=100, total=   0.2s\n",
      "[CV] criterion=entropy, max_depth=5, n_estimators=100 ................\n",
      "[CV] . criterion=entropy, max_depth=5, n_estimators=100, total=   0.2s\n",
      "[CV] criterion=entropy, max_depth=5, n_estimators=150 ................\n",
      "[CV] . criterion=entropy, max_depth=5, n_estimators=150, total=   0.3s\n",
      "[CV] criterion=entropy, max_depth=5, n_estimators=150 ................\n",
      "[CV] . criterion=entropy, max_depth=5, n_estimators=150, total=   0.3s\n",
      "[CV] criterion=entropy, max_depth=5, n_estimators=150 ................\n",
      "[CV] . criterion=entropy, max_depth=5, n_estimators=150, total=   0.3s\n",
      "[CV] criterion=entropy, max_depth=5, n_estimators=150 ................\n",
      "[CV] . criterion=entropy, max_depth=5, n_estimators=150, total=   0.3s\n",
      "[CV] criterion=entropy, max_depth=5, n_estimators=150 ................\n",
      "[CV] . criterion=entropy, max_depth=5, n_estimators=150, total=   0.2s\n",
      "[CV] criterion=entropy, max_depth=5, n_estimators=200 ................\n",
      "[CV] . criterion=entropy, max_depth=5, n_estimators=200, total=   0.3s\n",
      "[CV] criterion=entropy, max_depth=5, n_estimators=200 ................\n",
      "[CV] . criterion=entropy, max_depth=5, n_estimators=200, total=   0.3s\n",
      "[CV] criterion=entropy, max_depth=5, n_estimators=200 ................\n",
      "[CV] . criterion=entropy, max_depth=5, n_estimators=200, total=   0.3s\n",
      "[CV] criterion=entropy, max_depth=5, n_estimators=200 ................\n",
      "[CV] . criterion=entropy, max_depth=5, n_estimators=200, total=   0.3s\n",
      "[CV] criterion=entropy, max_depth=5, n_estimators=200 ................\n",
      "[CV] . criterion=entropy, max_depth=5, n_estimators=200, total=   0.3s\n",
      "[CV] criterion=entropy, max_depth=None, n_estimators=50 ..............\n",
      "[CV]  criterion=entropy, max_depth=None, n_estimators=50, total=   0.1s\n",
      "[CV] criterion=entropy, max_depth=None, n_estimators=50 ..............\n",
      "[CV]  criterion=entropy, max_depth=None, n_estimators=50, total=   0.1s\n",
      "[CV] criterion=entropy, max_depth=None, n_estimators=50 ..............\n",
      "[CV]  criterion=entropy, max_depth=None, n_estimators=50, total=   0.1s\n",
      "[CV] criterion=entropy, max_depth=None, n_estimators=50 ..............\n",
      "[CV]  criterion=entropy, max_depth=None, n_estimators=50, total=   0.1s\n",
      "[CV] criterion=entropy, max_depth=None, n_estimators=50 ..............\n",
      "[CV]  criterion=entropy, max_depth=None, n_estimators=50, total=   0.1s\n",
      "[CV] criterion=entropy, max_depth=None, n_estimators=100 .............\n",
      "[CV]  criterion=entropy, max_depth=None, n_estimators=100, total=   0.2s\n",
      "[CV] criterion=entropy, max_depth=None, n_estimators=100 .............\n",
      "[CV]  criterion=entropy, max_depth=None, n_estimators=100, total=   0.2s\n",
      "[CV] criterion=entropy, max_depth=None, n_estimators=100 .............\n",
      "[CV]  criterion=entropy, max_depth=None, n_estimators=100, total=   0.2s\n",
      "[CV] criterion=entropy, max_depth=None, n_estimators=100 .............\n",
      "[CV]  criterion=entropy, max_depth=None, n_estimators=100, total=   0.2s\n",
      "[CV] criterion=entropy, max_depth=None, n_estimators=100 .............\n",
      "[CV]  criterion=entropy, max_depth=None, n_estimators=100, total=   0.2s\n",
      "[CV] criterion=entropy, max_depth=None, n_estimators=150 .............\n",
      "[CV]  criterion=entropy, max_depth=None, n_estimators=150, total=   0.3s\n",
      "[CV] criterion=entropy, max_depth=None, n_estimators=150 .............\n",
      "[CV]  criterion=entropy, max_depth=None, n_estimators=150, total=   0.3s\n",
      "[CV] criterion=entropy, max_depth=None, n_estimators=150 .............\n",
      "[CV]  criterion=entropy, max_depth=None, n_estimators=150, total=   0.3s\n",
      "[CV] criterion=entropy, max_depth=None, n_estimators=150 .............\n",
      "[CV]  criterion=entropy, max_depth=None, n_estimators=150, total=   0.3s\n",
      "[CV] criterion=entropy, max_depth=None, n_estimators=150 .............\n",
      "[CV]  criterion=entropy, max_depth=None, n_estimators=150, total=   0.3s\n",
      "[CV] criterion=entropy, max_depth=None, n_estimators=200 .............\n",
      "[CV]  criterion=entropy, max_depth=None, n_estimators=200, total=   0.4s\n",
      "[CV] criterion=entropy, max_depth=None, n_estimators=200 .............\n",
      "[CV]  criterion=entropy, max_depth=None, n_estimators=200, total=   0.4s\n",
      "[CV] criterion=entropy, max_depth=None, n_estimators=200 .............\n",
      "[CV]  criterion=entropy, max_depth=None, n_estimators=200, total=   0.4s\n",
      "[CV] criterion=entropy, max_depth=None, n_estimators=200 .............\n",
      "[CV]  criterion=entropy, max_depth=None, n_estimators=200, total=   0.4s\n",
      "[CV] criterion=entropy, max_depth=None, n_estimators=200 .............\n",
      "[CV]  criterion=entropy, max_depth=None, n_estimators=200, total=   0.4s\n"
     ]
    },
    {
     "name": "stderr",
     "output_type": "stream",
     "text": [
      "[Parallel(n_jobs=1)]: Done 160 out of 160 | elapsed:   40.2s finished\n"
     ]
    },
    {
     "data": {
      "text/plain": [
       "GridSearchCV(cv=5, estimator=RandomForestClassifier(),\n",
       "             param_grid={'criterion': ['gini', 'entropy'],\n",
       "                         'max_depth': [1, 3, 5, None],\n",
       "                         'n_estimators': [50, 100, 150, 200]},\n",
       "             verbose=2)"
      ]
     },
     "execution_count": 52,
     "metadata": {},
     "output_type": "execute_result"
    }
   ],
   "source": [
    "gsc.fit(x_train_os,y_train_os)"
   ]
  },
  {
   "cell_type": "code",
   "execution_count": 53,
   "metadata": {},
   "outputs": [
    {
     "data": {
      "text/plain": [
       "{'criterion': 'entropy', 'max_depth': None, 'n_estimators': 150}"
      ]
     },
     "execution_count": 53,
     "metadata": {},
     "output_type": "execute_result"
    }
   ],
   "source": [
    "gsc.best_params_"
   ]
  },
  {
   "cell_type": "code",
   "execution_count": 54,
   "metadata": {},
   "outputs": [
    {
     "data": {
      "text/plain": [
       "0.91083645443196"
      ]
     },
     "execution_count": 54,
     "metadata": {},
     "output_type": "execute_result"
    }
   ],
   "source": [
    "gsc.best_score_"
   ]
  },
  {
   "cell_type": "code",
   "execution_count": 55,
   "metadata": {},
   "outputs": [],
   "source": [
    "# train the model with the best params"
   ]
  },
  {
   "cell_type": "code",
   "execution_count": 56,
   "metadata": {},
   "outputs": [],
   "source": [
    "rfc=RandomForestClassifier(criterion= 'entropy', max_depth= None, n_estimators= 150)"
   ]
  },
  {
   "cell_type": "code",
   "execution_count": 57,
   "metadata": {},
   "outputs": [
    {
     "data": {
      "text/plain": [
       "RandomForestClassifier(criterion='entropy', n_estimators=150)"
      ]
     },
     "execution_count": 57,
     "metadata": {},
     "output_type": "execute_result"
    }
   ],
   "source": [
    "rfc.fit(x_train_os,y_train_os)"
   ]
  },
  {
   "cell_type": "code",
   "execution_count": 59,
   "metadata": {},
   "outputs": [],
   "source": [
    "y_pred_cv=rfc.predict(x_test)"
   ]
  },
  {
   "cell_type": "code",
   "execution_count": 60,
   "metadata": {},
   "outputs": [
    {
     "data": {
      "text/plain": [
       "array([[90,  9],\n",
       "       [ 7,  2]])"
      ]
     },
     "execution_count": 60,
     "metadata": {},
     "output_type": "execute_result"
    }
   ],
   "source": [
    "confusion_matrix(y_test,y_pred_cv)"
   ]
  },
  {
   "cell_type": "code",
   "execution_count": 61,
   "metadata": {},
   "outputs": [
    {
     "name": "stdout",
     "output_type": "stream",
     "text": [
      "              precision    recall  f1-score   support\n",
      "\n",
      "           0       0.93      0.91      0.92        99\n",
      "           1       0.18      0.22      0.20         9\n",
      "\n",
      "    accuracy                           0.85       108\n",
      "   macro avg       0.55      0.57      0.56       108\n",
      "weighted avg       0.87      0.85      0.86       108\n",
      "\n"
     ]
    }
   ],
   "source": [
    "print(classification_report(y_test,y_pred_cv))"
   ]
  },
  {
   "cell_type": "code",
   "execution_count": 62,
   "metadata": {},
   "outputs": [],
   "source": [
    "# let's find out the average accuracy by using cv"
   ]
  },
  {
   "cell_type": "code",
   "execution_count": 63,
   "metadata": {},
   "outputs": [],
   "source": [
    "from sklearn.model_selection import cross_val_score\n"
   ]
  },
  {
   "cell_type": "code",
   "execution_count": 64,
   "metadata": {},
   "outputs": [
    {
     "name": "stderr",
     "output_type": "stream",
     "text": [
      "[Parallel(n_jobs=1)]: Using backend SequentialBackend with 1 concurrent workers.\n",
      "[Parallel(n_jobs=1)]: Done   1 out of   1 | elapsed:    0.2s remaining:    0.0s\n"
     ]
    },
    {
     "name": "stdout",
     "output_type": "stream",
     "text": [
      "[CV]  ................................................................\n",
      "[CV] ................................................. , total=   0.2s\n",
      "[CV]  ................................................................\n",
      "[CV] ................................................. , total=   0.2s\n",
      "[CV]  ................................................................\n",
      "[CV] ................................................. , total=   0.2s\n",
      "[CV]  ................................................................\n",
      "[CV] ................................................. , total=   0.2s\n",
      "[CV]  ................................................................\n",
      "[CV] ................................................. , total=   0.2s\n",
      "[CV]  ................................................................\n",
      "[CV] ................................................. , total=   0.2s\n",
      "[CV]  ................................................................\n",
      "[CV] ................................................. , total=   0.2s\n",
      "[CV]  ................................................................\n",
      "[CV] ................................................. , total=   0.2s\n",
      "[CV]  ................................................................\n",
      "[CV] ................................................. , total=   0.2s\n",
      "[CV]  ................................................................\n",
      "[CV] ................................................. , total=   0.2s\n"
     ]
    },
    {
     "name": "stderr",
     "output_type": "stream",
     "text": [
      "[Parallel(n_jobs=1)]: Done  10 out of  10 | elapsed:    1.9s finished\n"
     ]
    }
   ],
   "source": [
    "cvs=cross_val_score(RandomForestClassifier(),X=x_train_os,y=y_train_os,cv=10,verbose=2)"
   ]
  },
  {
   "cell_type": "code",
   "execution_count": 65,
   "metadata": {},
   "outputs": [
    {
     "data": {
      "text/plain": [
       "array([0.68888889, 0.86666667, 0.97777778, 0.97777778, 0.91111111,\n",
       "       0.95555556, 0.95555556, 0.88888889, 0.97727273, 0.88636364])"
      ]
     },
     "execution_count": 65,
     "metadata": {},
     "output_type": "execute_result"
    }
   ],
   "source": [
    "cvs  # shows the accuracy obtained for each iteration."
   ]
  },
  {
   "cell_type": "markdown",
   "metadata": {},
   "source": [
    "## Naive-Bayes classifier"
   ]
  },
  {
   "cell_type": "code",
   "execution_count": 67,
   "metadata": {},
   "outputs": [],
   "source": [
    "from sklearn.naive_bayes import GaussianNB\n",
    "\n"
   ]
  },
  {
   "cell_type": "code",
   "execution_count": 68,
   "metadata": {},
   "outputs": [],
   "source": [
    "nb=GaussianNB()"
   ]
  },
  {
   "cell_type": "code",
   "execution_count": 69,
   "metadata": {},
   "outputs": [
    {
     "data": {
      "text/plain": [
       "GaussianNB()"
      ]
     },
     "execution_count": 69,
     "metadata": {},
     "output_type": "execute_result"
    }
   ],
   "source": [
    "nb.fit(x_train_os,y_train_os)"
   ]
  },
  {
   "cell_type": "code",
   "execution_count": 70,
   "metadata": {},
   "outputs": [],
   "source": [
    "y_pred_nb=nb.predict(x_test)"
   ]
  },
  {
   "cell_type": "code",
   "execution_count": 71,
   "metadata": {},
   "outputs": [
    {
     "name": "stdout",
     "output_type": "stream",
     "text": [
      "              precision    recall  f1-score   support\n",
      "\n",
      "           0       0.94      0.63      0.75        99\n",
      "           1       0.12      0.56      0.20         9\n",
      "\n",
      "    accuracy                           0.62       108\n",
      "   macro avg       0.53      0.59      0.47       108\n",
      "weighted avg       0.87      0.62      0.71       108\n",
      "\n"
     ]
    }
   ],
   "source": [
    "print(classification_report(y_test,y_pred_nb))"
   ]
  },
  {
   "cell_type": "code",
   "execution_count": null,
   "metadata": {},
   "outputs": [],
   "source": []
  },
  {
   "cell_type": "markdown",
   "metadata": {},
   "source": [
    "## ROC and AUC"
   ]
  },
  {
   "cell_type": "code",
   "execution_count": 72,
   "metadata": {},
   "outputs": [],
   "source": [
    "from sklearn.metrics import roc_auc_score,roc_curve"
   ]
  },
  {
   "cell_type": "code",
   "execution_count": 73,
   "metadata": {},
   "outputs": [
    {
     "data": {
      "text/plain": [
       "0.5656565656565656"
      ]
     },
     "execution_count": 73,
     "metadata": {},
     "output_type": "execute_result"
    }
   ],
   "source": [
    "roc_auc_score(y_test,y_pred_cv)"
   ]
  },
  {
   "cell_type": "code",
   "execution_count": 74,
   "metadata": {},
   "outputs": [
    {
     "data": {
      "text/plain": [
       "0.5909090909090909"
      ]
     },
     "execution_count": 74,
     "metadata": {},
     "output_type": "execute_result"
    }
   ],
   "source": [
    "roc_auc_score(y_test,y_pred_nb)"
   ]
  },
  {
   "cell_type": "code",
   "execution_count": 75,
   "metadata": {},
   "outputs": [
    {
     "data": {
      "text/plain": [
       "0.5202020202020202"
      ]
     },
     "execution_count": 75,
     "metadata": {},
     "output_type": "execute_result"
    }
   ],
   "source": [
    "roc_auc_score(y_test,y_predict_rfc_)"
   ]
  },
  {
   "cell_type": "code",
   "execution_count": 76,
   "metadata": {},
   "outputs": [],
   "source": [
    "r_fpr,r_tpr,_=roc_curve(y_test,y_pred_cv)\n",
    "nr_fpr,nr_tpr,_=roc_curve(y_test,y_pred_nb)\n",
    "fr_fpr,fr_tpr,_=roc_curve(y_test,y_predict_rfc_)\n"
   ]
  },
  {
   "cell_type": "code",
   "execution_count": 77,
   "metadata": {},
   "outputs": [],
   "source": [
    "import matplotlib.pyplot as plt"
   ]
  },
  {
   "cell_type": "code",
   "execution_count": 78,
   "metadata": {},
   "outputs": [
    {
     "data": {
      "text/plain": [
       "<matplotlib.legend.Legend at 0x7fb682c5a610>"
      ]
     },
     "execution_count": 78,
     "metadata": {},
     "output_type": "execute_result"
    },
    {
     "data": {
      "image/png": "[encoded data removed]",
      "text/plain": [
       "<Figure size 432x288 with 1 Axes>"
      ]
     },
     "metadata": {
      "needs_background": "light"
     },
     "output_type": "display_data"
    }
   ],
   "source": [
    "plt.plot(r_fpr,r_tpr,ls=\"--\",label=\"cross validation\")\n",
    "plt.plot(nr_fpr,nr_tpr,ls=\"-\",label=\"naive bayes\")\n",
    "plt.plot(fr_fpr,fr_tpr,ls=\":\",label=\"random forest\")\n",
    "\n",
    "plt.xlabel('False positive rate')\n",
    "plt.ylabel('Sensitivity/True positive rate')\n",
    "plt.title('ROC_Curve')\n",
    "plt.legend()\n"
   ]
  },
  {
   "cell_type": "code",
   "execution_count": null,
   "metadata": {},
   "outputs": [],
   "source": []
  }
 ],
 "metadata": {
  "kernelspec": {
   "display_name": "Python 3",
   "language": "python",
   "name": "python3"
  },
  "language_info": {
   "codemirror_mode": {
    "name": "ipython",
    "version": 3
   },
   "file_extension": ".py",
   "mimetype": "text/x-python",
   "name": "python",
   "nbconvert_exporter": "python",
   "pygments_lexer": "ipython3",
   "version": "3.8.3"
  }
 },
 "nbformat": 4,
 "nbformat_minor": 4
}
